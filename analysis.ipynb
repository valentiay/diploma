{
 "cells": [
  {
   "cell_type": "code",
   "execution_count": null,
   "metadata": {},
   "outputs": [],
   "source": [
    "import matplotlib.pyplot as plt\n",
    "import matplotlib.colors as colors\n",
    "import pandas\n",
    "import numpy as np"
   ]
  },
  {
   "cell_type": "code",
   "execution_count": null,
   "metadata": {},
   "outputs": [],
   "source": [
    "def plotScript(resultDir, script):\n",
    "    quadratic = pandas.read_csv(f'results/{resultDir}/{script}/quadratic.tsv', sep='\\t')\n",
    "    bRTreePoint = pandas.read_csv(f'results/{resultDir}/{script}/bRTreePoint.tsv', sep='\\t')\n",
    "    bRTreeRule = pandas.read_csv(f'results/{resultDir}/{script}/bRTreeRule.tsv', sep='\\t')\n",
    "    xTreePoint = pandas.read_csv(f'results/{resultDir}/{script}/xTreePoint.tsv', sep='\\t')\n",
    "    xTreeRule = pandas.read_csv(f'results/{resultDir}/{script}/xTreeRule.tsv', sep='\\t')\n",
    "\n",
    "    groupedQuadratic = quadratic.groupby('dimensions')\n",
    "    groupedBRTreePoint = bRTreePoint.groupby('dimensions')\n",
    "    groupedBRTreeRule = bRTreeRule.groupby('dimensions')\n",
    "    groupedXTreePoint = xTreePoint.groupby('dimensions')\n",
    "    groupedXTreeRule = xTreeRule.groupby('dimensions')\n",
    "\n",
    "    quadraticLabel = 'Наивное решение'\n",
    "    bRTreePointLabel = 'Алгоритм массовой вставки (индексируются события)'\n",
    "    bRTreeRuleLabel = 'Алгоритм массовой вставки (индексируются правила)'\n",
    "    xTreePointLabel = 'X-дерево (индексируются события)'\n",
    "    xTreeRuleLabel = 'X-дерево (индексируются правила)'\n",
    "\n",
    "    j = 1\n",
    "    f = plt.figure(figsize=(14,8))\n",
    "    for (i, group) in groupedQuadratic:\n",
    "        ax = f.add_subplot(2, 3, j)\n",
    "        ax.grid(True)\n",
    "        ax.plot(groupedQuadratic.get_group(i)['rules'], groupedQuadratic.get_group(i)['timeNormUs'] / 1000, label=quadraticLabel)\n",
    "        ax.plot(groupedBRTreePoint.get_group(i)['rules'], groupedBRTreePoint.get_group(i)['timeNormUs'] / 1000, label=bRTreePointLabel)\n",
    "        ax.plot(groupedBRTreeRule.get_group(i)['rules'], groupedBRTreeRule.get_group(i)['timeNormUs'] / 1000, label=bRTreeRuleLabel)\n",
    "        ax.plot(groupedXTreePoint.get_group(i)['rules'], groupedXTreePoint.get_group(i)['timeNormUs'] / 1000, label=xTreePointLabel)\n",
    "        ax.plot(groupedXTreeRule.get_group(i)['rules'], groupedXTreeRule.get_group(i)['timeNormUs'] / 1000, label=xTreeRuleLabel)\n",
    "        ax.margins(0)\n",
    "        plt.title(f'Размерность пространства: {i}')\n",
    "        plt.xlabel('Число правил')\n",
    "        plt.ylabel('Время обработки одной точки, мс')\n",
    "        j += 1\n",
    "\n",
    "    handles, labels = ax.get_legend_handles_labels()\n",
    "    f.legend(handles, labels, loc='lower center', fancybox=True, shadow=True, ncol=1)\n",
    "    f.suptitle(f'Время обработки одной точки. Сценарий {script}', size='x-large')\n",
    "    plt.subplots_adjust(top=0.90, bottom=0.22, left=0.10, right=0.95, hspace=0.3, wspace=0.5)\n",
    "    plt.show()"
   ]
  },
  {
   "cell_type": "code",
   "execution_count": null,
   "metadata": {},
   "outputs": [],
   "source": [
    "def plotSpeedUp(resultDir, script):\n",
    "    quadratic = pandas.read_csv(f'results/{resultDir}/{script}/quadratic.tsv', sep='\\t')\n",
    "    bRTreePoint = pandas.read_csv(f'results/{resultDir}/{script}/bRTreePoint.tsv', sep='\\t')\n",
    "    bRTreeRule = pandas.read_csv(f'results/{resultDir}/{script}/bRTreeRule.tsv', sep='\\t')\n",
    "    xTreePoint = pandas.read_csv(f'results/{resultDir}/{script}/xTreePoint.tsv', sep='\\t')\n",
    "    xTreeRule = pandas.read_csv(f'results/{resultDir}/{script}/xTreeRule.tsv', sep='\\t')\n",
    "\n",
    "    groupedQuadratic = quadratic.groupby('dimensions')\n",
    "    groupedBRTreePoint = bRTreePoint.groupby('dimensions')\n",
    "    groupedBRTreeRule = bRTreeRule.groupby('dimensions')\n",
    "    groupedXTreePoint = xTreePoint.groupby('dimensions')\n",
    "    groupedXTreeRule = xTreeRule.groupby('dimensions')\n",
    "\n",
    "    bRTreePointLabel = 'Алгоритм массовой вставки (индексируются события)'\n",
    "    bRTreeRuleLabel = 'Алгоритм массовой вставки (индексируются правила)'\n",
    "    xTreePointLabel = 'X-дерево (индексируются события)'\n",
    "    xTreeRuleLabel = 'X-дерево (индексируются правила)'\n",
    "    \n",
    "    j = 1\n",
    "    f = plt.figure(figsize=(14,8))\n",
    "    for (i, group) in groupedQuadratic:\n",
    "        ax = f.add_subplot(2, 3, j)\n",
    "        ax.grid(True)\n",
    "        ax.plot(groupedBRTreePoint.get_group(i)['rules'], groupedQuadratic.get_group(i)['timeNormUs'] / groupedBRTreePoint.get_group(i)['timeNormUs'], label=bRTreePointLabel)\n",
    "        ax.plot(groupedBRTreeRule.get_group(i)['rules'], groupedQuadratic.get_group(i)['timeNormUs'] / groupedBRTreeRule.get_group(i)['timeNormUs'], label=bRTreeRuleLabel)\n",
    "        ax.plot(groupedXTreePoint.get_group(i)['rules'], groupedQuadratic.get_group(i)['timeNormUs'] / groupedXTreePoint.get_group(i)['timeNormUs'], label=xTreePointLabel)\n",
    "        ax.plot(groupedXTreeRule.get_group(i)['rules'], groupedQuadratic.get_group(i)['timeNormUs'] / groupedXTreeRule.get_group(i)['timeNormUs'], label=xTreeRuleLabel)\n",
    "        ax.margins(0)\n",
    "        plt.title(f'Размерность пространства: {i}')\n",
    "        plt.xlabel('Число правил')\n",
    "        plt.ylabel('Ускорение')\n",
    "        j += 1\n",
    "\n",
    "    handles, labels = ax.get_legend_handles_labels()\n",
    "    f.legend(handles, labels, loc='lower center', fancybox=True, shadow=True, ncol=1)\n",
    "    f.suptitle(f'Ускорение. Сценарий {script}', size='x-large')\n",
    "    plt.subplots_adjust(top=0.90, bottom=0.19, left=0.10, right=0.95, hspace=0.3, wspace=0.5)\n",
    "    plt.show()"
   ]
  },
  {
   "cell_type": "code",
   "execution_count": null,
   "metadata": {},
   "outputs": [],
   "source": [
    "resultDir = 'reference'\n",
    "scripts = ['uniform', 'uniformLimited', 'uniformDiscrete', 'gaussian']"
   ]
  },
  {
   "cell_type": "code",
   "execution_count": null,
   "metadata": {},
   "outputs": [],
   "source": [
    "for script in scripts:\n",
    "    plotScript(resultDir, script)"
   ]
  },
  {
   "cell_type": "code",
   "execution_count": null,
   "metadata": {},
   "outputs": [],
   "source": [
    "for script in scripts:\n",
    "    plotSpeedUp(resultDir, script)"
   ]
  },
  {
   "cell_type": "code",
   "execution_count": null,
   "metadata": {},
   "outputs": [],
   "source": [
    "def plotPoint(resultDir):\n",
    "    pointScript = pandas.read_csv(f'results/{resultDir}/pointScript/pointScript.tsv', sep='\\t')  \n",
    "    groupped = pointScript.groupby('rules')\n",
    "    chunkSizes = [group for (i, group) in groupped['chunkSize']][0].to_numpy()\n",
    "    ruleSizes = [i for (i, group) in groupped]\n",
    "    array = np.array([group.to_numpy() / group.max() for (i, group) in groupped['timeNormUs']]) \n",
    "    \n",
    "    ax = plt.gca()\n",
    "    fig = plt.gcf()\n",
    "\n",
    "    pcm = ax.pcolor(array, \n",
    "                    norm=colors.LogNorm(vmin=array.min(), vmax=array.max()), \n",
    "                    cmap='RdYlGn_r'\n",
    "                   )\n",
    "    fig.colorbar(pcm, ax=ax, extend='max')\n",
    "    \n",
    "    ax.set_yticks(np.arange(len(ruleSizes)))\n",
    "    ax.set_xticks(np.arange(len(chunkSizes)))\n",
    "    ax.set_yticklabels(ruleSizes, ha='right', rotation_mode='anchor')\n",
    "    ax.set_xticklabels(chunkSizes, rotation='vertical', ha='right', rotation_mode='anchor')\n",
    "    plt.xlabel('chunk size')\n",
    "    plt.ylabel('rules')\n",
    "        \n",
    "    plt.show()\n",
    "    \n",
    "    \n",
    "plotPoint(resultDir)"
   ]
  }
 ],
 "metadata": {
  "kernelspec": {
   "display_name": "Python 3",
   "language": "python",
   "name": "python3"
  },
  "language_info": {
   "codemirror_mode": {
    "name": "ipython",
    "version": 3
   },
   "file_extension": ".py",
   "mimetype": "text/x-python",
   "name": "python",
   "nbconvert_exporter": "python",
   "pygments_lexer": "ipython3",
   "version": "3.7.2"
  }
 },
 "nbformat": 4,
 "nbformat_minor": 2
}
